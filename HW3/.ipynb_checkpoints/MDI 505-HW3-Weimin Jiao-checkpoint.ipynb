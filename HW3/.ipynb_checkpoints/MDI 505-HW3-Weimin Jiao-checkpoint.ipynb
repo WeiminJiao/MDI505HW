{
 "cells": [
  {
   "cell_type": "code",
   "execution_count": 1,
   "metadata": {},
   "outputs": [],
   "source": [
    "import numpy as np\n",
    "import matplotlib.pyplot as plt\n",
    "%matplotlib inline"
   ]
  },
  {
   "cell_type": "code",
   "execution_count": 2,
   "metadata": {},
   "outputs": [],
   "source": [
    "def bcc_ucell(a, nc):\n",
    "    n = 2\n",
    "    r = np.array([[0, 0, 0], [0.5, 0.5, 0.5]])\n",
    "    ucell = 0\n",
    "    for k in range(-nc, nc+1):\n",
    "        for l in range(-nc, nc+1):\n",
    "            for m in range(-nc, nc+1):\n",
    "                for i in range(n):\n",
    "                    for j in range(n):\n",
    "                        dist = a * np.sqrt((k+r[j,0]-r[i,0]) ** 2 + (l+r[j,1]-r[i,1]) ** 2 + (m+r[j,2]-r[i,2]) ** 2)\n",
    "\n",
    "                        if dist > 0:\n",
    "                            u = 2 * (1/(dist ** 12) - 1/(dist ** 6))\n",
    "\n",
    "                        else:\n",
    "                            u = 0\n",
    "\n",
    "                        ucell = ucell + u\n",
    "\n",
    "    ucell = ucell/n\n",
    "    return ucell"
   ]
  },
  {
   "cell_type": "code",
   "execution_count": 3,
   "metadata": {},
   "outputs": [],
   "source": [
    "a = np.linspace(1, 1.4, 200)\n",
    "u = []\n",
    "nc = 6\n",
    "for i in a:\n",
    "    u.append(bcc_ucell(i, nc))"
   ]
  },
  {
   "cell_type": "code",
   "execution_count": 4,
   "metadata": {},
   "outputs": [
    {
     "name": "stdout",
     "output_type": "stream",
     "text": [
      "a0= 1.2331658291457286\n",
      "u0= -8.2267691746943\n"
     ]
    }
   ],
   "source": [
    "u0 = min(u)\n",
    "a0 = a[u.index(u0)]\n",
    "print('a0=',a0)\n",
    "print('u0=',u0)"
   ]
  },
  {
   "cell_type": "code",
   "execution_count": 5,
   "metadata": {},
   "outputs": [
    {
     "data": {
      "image/png": "[encoded data removed]",
      "text/plain": [
       "<Figure size 432x288 with 1 Axes>"
      ]
     },
     "metadata": {},
     "output_type": "display_data"
    }
   ],
   "source": [
    "plt.plot(a, u)\n",
    "plt.xlabel('a')\n",
    "plt.ylabel('u')\n",
    "plt.title('u vs. a')\n",
    "plt.show()"
   ]
  },
  {
   "cell_type": "markdown",
   "metadata": {},
   "source": [
    "According to the BCC calculated result, both of u and a of BCC are smaller than FCC"
   ]
  }
 ],
 "metadata": {
  "kernelspec": {
   "display_name": "Python 3",
   "language": "python",
   "name": "python3"
  },
  "language_info": {
   "codemirror_mode": {
    "name": "ipython",
    "version": 3
   },
   "file_extension": ".py",
   "mimetype": "text/x-python",
   "name": "python",
   "nbconvert_exporter": "python",
   "pygments_lexer": "ipython3",
   "version": "3.6.5"
  }
 },
 "nbformat": 4,
 "nbformat_minor": 2
}
